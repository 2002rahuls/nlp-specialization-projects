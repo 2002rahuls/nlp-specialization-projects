{
 "cells": [
  {
   "cell_type": "markdown",
   "id": "d33e43ff",
   "metadata": {},
   "source": [
    "# 1. Imports\n"
   ]
  },
  {
   "cell_type": "code",
   "execution_count": 4,
   "id": "8480043e",
   "metadata": {},
   "outputs": [],
   "source": [
    "import numpy as np\n",
    "import tensorflow as tf\n",
    "from tensorflow.keras.layers import Embedding, LSTM, Dense, Input\n",
    "from tensorflow.keras.models import Model"
   ]
  },
  {
   "cell_type": "markdown",
   "id": "cdb98279",
   "metadata": {},
   "source": [
    "# 2. Data Loading\n",
    "## toy dataset\n"
   ]
  },
  {
   "cell_type": "code",
   "execution_count": 5,
   "id": "8fc8f907",
   "metadata": {},
   "outputs": [],
   "source": [
    "Q1_train = [\"How are you?\", \"What is AI?\", \"What is your name?\"]\n",
    "Q2_train = [\"How do you do?\", \"Define artificial intelligence\", \"Tell me your name\"]\n",
    "y_train = [1, 1, 1]  # duplicates\n",
    "\n",
    "Q1_test = [\"How old are you?\", \"What is ML?\"]\n",
    "Q2_test = [\"What’s your age?\", \"What is machine learning?\"]\n",
    "y_test = [1, 1]"
   ]
  },
  {
   "cell_type": "markdown",
   "id": "27961c5d",
   "metadata": {},
   "source": [
    "# 3. Tokenization + Padding"
   ]
  },
  {
   "cell_type": "code",
   "execution_count": 6,
   "id": "3acad15a",
   "metadata": {},
   "outputs": [],
   "source": [
    "tokenizer = tf.keras.preprocessing.text.Tokenizer()\n",
    "tokenizer.fit_on_texts(Q1_train + Q2_train + Q1_test + Q2_test)\n",
    "max_len = 10\n",
    "\n",
    "def tokenize_pad(texts):\n",
    "    seq = tokenizer.texts_to_sequences(texts)\n",
    "    return tf.keras.preprocessing.sequence.pad_sequences(seq, maxlen=max_len, padding='post')\n",
    "\n",
    "X1_train = tokenize_pad(Q1_train)\n",
    "X2_train = tokenize_pad(Q2_train)\n",
    "X1_test = tokenize_pad(Q1_test)\n",
    "X2_test = tokenize_pad(Q2_test)"
   ]
  },
  {
   "cell_type": "markdown",
   "id": "3204b6b9",
   "metadata": {},
   "source": [
    "# 4. Siamese Model"
   ]
  },
  {
   "cell_type": "code",
   "execution_count": 7,
   "id": "c53ae906",
   "metadata": {},
   "outputs": [
    {
     "name": "stdout",
     "output_type": "stream",
     "text": [
      "Model: \"model\"\n",
      "__________________________________________________________________________________________________\n",
      " Layer (type)                   Output Shape         Param #     Connected to                     \n",
      "==================================================================================================\n",
      " input_1 (InputLayer)           [(None, 10)]         0           []                               \n",
      "                                                                                                  \n",
      " input_2 (InputLayer)           [(None, 10)]         0           []                               \n",
      "                                                                                                  \n",
      " embedding (Embedding)          (None, 10, 50)       1050        ['input_1[0][0]',                \n",
      "                                                                  'input_2[0][0]']                \n",
      "                                                                                                  \n",
      " lstm (LSTM)                    (None, 64)           29440       ['embedding[0][0]',              \n",
      "                                                                  'embedding[1][0]']              \n",
      "                                                                                                  \n",
      " dot (Dot)                      (None, 1)            0           ['lstm[0][0]',                   \n",
      "                                                                  'lstm[1][0]']                   \n",
      "                                                                                                  \n",
      "==================================================================================================\n",
      "Total params: 30,490\n",
      "Trainable params: 30,490\n",
      "Non-trainable params: 0\n",
      "__________________________________________________________________________________________________\n"
     ]
    }
   ],
   "source": [
    "embedding_dim = 50\n",
    "lstm_dim = 64\n",
    "\n",
    "# Inputs\n",
    "input_q1 = Input(shape=(max_len,))\n",
    "input_q2 = Input(shape=(max_len,))\n",
    "\n",
    "embedding = Embedding(input_dim=len(tokenizer.word_index)+1,\n",
    "                      output_dim=embedding_dim, input_length=max_len)\n",
    "\n",
    "# Shared LSTM encoder\n",
    "shared_lstm = LSTM(lstm_dim)\n",
    "\n",
    "v1 = shared_lstm(embedding(input_q1))\n",
    "v2 = shared_lstm(embedding(input_q2))\n",
    "\n",
    "# Outputs\n",
    "output = tf.keras.layers.Dot(axes=1, normalize=True)([v1, v2])  # cosine similarity\n",
    "model = Model(inputs=[input_q1, input_q2], outputs=output)\n",
    "\n",
    "model.compile(optimizer='adam', loss='mse', metrics=['accuracy'])\n",
    "model.summary()"
   ]
  },
  {
   "cell_type": "markdown",
   "id": "b2c93938",
   "metadata": {},
   "source": [
    "# 5. Training"
   ]
  },
  {
   "cell_type": "code",
   "execution_count": 8,
   "id": "b6a41a78",
   "metadata": {},
   "outputs": [
    {
     "name": "stdout",
     "output_type": "stream",
     "text": [
      "Epoch 1/10\n",
      "2/2 [==============================] - 5s 11ms/step - loss: 3.1018e-05 - accuracy: 1.0000\n",
      "Epoch 2/10\n",
      "2/2 [==============================] - 0s 8ms/step - loss: 6.3605e-06 - accuracy: 1.0000\n",
      "Epoch 3/10\n",
      "2/2 [==============================] - 0s 7ms/step - loss: 1.0476e-06 - accuracy: 1.0000\n",
      "Epoch 4/10\n",
      "2/2 [==============================] - 0s 7ms/step - loss: 3.7582e-07 - accuracy: 1.0000\n",
      "Epoch 5/10\n",
      "2/2 [==============================] - 0s 8ms/step - loss: 2.1742e-07 - accuracy: 1.0000\n",
      "Epoch 6/10\n",
      "2/2 [==============================] - 0s 8ms/step - loss: 1.4453e-07 - accuracy: 1.0000\n",
      "Epoch 7/10\n",
      "2/2 [==============================] - 0s 8ms/step - loss: 1.1709e-07 - accuracy: 1.0000\n",
      "Epoch 8/10\n",
      "2/2 [==============================] - 0s 7ms/step - loss: 1.0209e-07 - accuracy: 1.0000\n",
      "Epoch 9/10\n",
      "2/2 [==============================] - 0s 8ms/step - loss: 9.2175e-08 - accuracy: 1.0000\n",
      "Epoch 10/10\n",
      "2/2 [==============================] - 0s 8ms/step - loss: 8.5547e-08 - accuracy: 1.0000\n"
     ]
    }
   ],
   "source": [
    "history = model.fit([X1_train, X2_train], np.array(y_train, dtype=np.float32),\n",
    "                    epochs=10, batch_size=2)"
   ]
  },
  {
   "cell_type": "markdown",
   "id": "063072d5",
   "metadata": {},
   "source": [
    "# 6. Evaluation"
   ]
  },
  {
   "cell_type": "code",
   "execution_count": 9,
   "id": "59403727",
   "metadata": {},
   "outputs": [
    {
     "name": "stdout",
     "output_type": "stream",
     "text": [
      "1/1 [==============================] - 1s 647ms/step - loss: 1.4124e-06 - accuracy: 1.0000\n",
      "Test Accuracy: 1.0000\n"
     ]
    }
   ],
   "source": [
    "loss, acc = model.evaluate([X1_test, X2_test], np.array(y_test, dtype=np.float32))\n",
    "print(f\"Test Accuracy: {acc:.4f}\")"
   ]
  },
  {
   "cell_type": "markdown",
   "id": "f2266b4a",
   "metadata": {},
   "source": [
    "# 7. Prediction helper"
   ]
  },
  {
   "cell_type": "code",
   "execution_count": 10,
   "id": "f98dec75",
   "metadata": {},
   "outputs": [],
   "source": [
    "def predict(question1, question2, threshold=0.7, verbose=True):\n",
    "    X1 = tokenize_pad([question1])\n",
    "    X2 = tokenize_pad([question2])\n",
    "    d = model.predict([X1, X2])[0][0]\n",
    "    res = d > threshold\n",
    "    \n",
    "    if verbose:\n",
    "        print(\"Q1:\", question1)\n",
    "        print(\"Q2:\", question2)\n",
    "        print(\"Similarity:\", d)\n",
    "        print(\"Duplicate?\", res)\n",
    "    return res"
   ]
  },
  {
   "cell_type": "markdown",
   "id": "6bc695e1",
   "metadata": {},
   "source": [
    "# 8. Test"
   ]
  },
  {
   "cell_type": "code",
   "execution_count": 11,
   "id": "45a21fea",
   "metadata": {},
   "outputs": [
    {
     "name": "stdout",
     "output_type": "stream",
     "text": [
      "1/1 [==============================] - 1s 553ms/step\n",
      "Q1: What is AI?\n",
      "Q2: Define artificial intelligence\n",
      "Similarity: 0.9996928\n",
      "Duplicate? True\n",
      "1/1 [==============================] - 0s 20ms/step\n",
      "Q1: How old are you?\n",
      "Q2: What’s your age?\n",
      "Similarity: 0.9989886\n",
      "Duplicate? True\n",
      "1/1 [==============================] - 0s 24ms/step\n",
      "Q1: What is AI?\n",
      "Q2: What is your name?\n",
      "Similarity: 0.99902123\n",
      "Duplicate? True\n"
     ]
    },
    {
     "data": {
      "text/plain": [
       "True"
      ]
     },
     "execution_count": 11,
     "metadata": {},
     "output_type": "execute_result"
    }
   ],
   "source": [
    "predict(\"What is AI?\", \"Define artificial intelligence\")\n",
    "predict(\"How old are you?\", \"What’s your age?\")\n",
    "predict(\"What is AI?\", \"What is your name?\")"
   ]
  }
 ],
 "metadata": {
  "kernelspec": {
   "display_name": "Python 3",
   "language": "python",
   "name": "python3"
  },
  "language_info": {
   "codemirror_mode": {
    "name": "ipython",
    "version": 3
   },
   "file_extension": ".py",
   "mimetype": "text/x-python",
   "name": "python",
   "nbconvert_exporter": "python",
   "pygments_lexer": "ipython3",
   "version": "3.10.6"
  }
 },
 "nbformat": 4,
 "nbformat_minor": 5
}
