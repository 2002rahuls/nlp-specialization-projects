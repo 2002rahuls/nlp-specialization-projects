{
 "cells": [
  {
   "cell_type": "markdown",
   "id": "77ecb181",
   "metadata": {},
   "source": [
    "## 1. Imports and Setup"
   ]
  },
  {
   "cell_type": "code",
   "execution_count": 4,
   "id": "546facf2",
   "metadata": {},
   "outputs": [],
   "source": [
    "import tensorflow as tf \n",
    "import numpy as np \n",
    "from collections import Counter\n",
    "import matplotlib.pyplot as plt"
   ]
  },
  {
   "cell_type": "markdown",
   "id": "5397e38e",
   "metadata": {},
   "source": [
    "##  2. Data Preparation"
   ]
  },
  {
   "cell_type": "code",
   "execution_count": 5,
   "id": "d296f2d7",
   "metadata": {},
   "outputs": [],
   "source": [
    "english_sentence  =[\n",
    "  \"i like apples\",\n",
    "  \"you love bananas\",\n",
    "  \"he plays football\",\n",
    "  \"she reads books\",\n",
    "  \"we study languages\",\n",
    "]\n",
    "portuguese_sentences = [\n",
    "    \"eu gosto de maçãs\",\n",
    "    \"você ama bananas\",\n",
    "    \"ele joga futebol\",\n",
    "    \"ela lê livros\",\n",
    "    \"nós estudamos línguas\",\n",
    "]"
   ]
  },
  {
   "cell_type": "markdown",
   "id": "fc0b5a14",
   "metadata": {},
   "source": [
    "### Tokenization and Vectorization"
   ]
  },
  {
   "cell_type": "code",
   "execution_count": 6,
   "id": "2fe41533",
   "metadata": {},
   "outputs": [],
   "source": [
    "english_vectorizer = tf.keras.layers.TextVectorization(output_mode=\"int\",output_sequence_length=10)\n",
    "portuguese_vectorizer = tf.keras.layers.TextVectorization(output_mode=\"int\",output_sequence_length=10)\n",
    "\n",
    "english_vectorizer.adapt(english_sentence)\n",
    "portuguese_vectorizer.adapt([\"<SOS>\" + s + \"<EOS>\" for s in portuguese_sentences])\n",
    "\n",
    "vocab_en = english_vectorizer.get_vocabulary()\n",
    "vocab_pt = portuguese_vectorizer.get_vocabulary()"
   ]
  },
  {
   "cell_type": "markdown",
   "id": "85762e05",
   "metadata": {},
   "source": [
    "## 3.  Encoder-Decoder Architecture"
   ]
  },
  {
   "cell_type": "code",
   "execution_count": 12,
   "id": "42b63986",
   "metadata": {},
   "outputs": [],
   "source": [
    "class Encoder(tf.keras.layers.Layer):\n",
    "    def __init__(self, vocab_size, units):\n",
    "        super().__init__()\n",
    "        self.embedding = tf.keras.layers.Embedding(vocab_size, units)\n",
    "        self.lstm = tf.keras.layers.LSTM(units, return_sequences=True, return_state=True)\n",
    "    \n",
    "    def call(self, x):\n",
    "        x = self.embedding(x)\n",
    "        output, h, c = self.lstm(x)\n",
    "        return output, h, c\n",
    "\n",
    "\n",
    "class Decoder(tf.keras.layers.Layer):\n",
    "    def __init__(self, vocab_size, units):\n",
    "        super().__init__()\n",
    "        self.embedding = tf.keras.layers.Embedding(vocab_size, units)\n",
    "        self.lstm = tf.keras.layers.LSTM(units, return_sequences=True, return_state=True)\n",
    "        self.output_layer = tf.keras.layers.Dense(vocab_size, activation='softmax')\n",
    "    \n",
    "    def call(self, context, token, state):\n",
    "        token = self.embedding(token)\n",
    "        output, h, c = self.lstm(token, initial_state=state)\n",
    "        logits = self.output_layer(output)\n",
    "        return logits, [h, c]\n"
   ]
  },
  {
   "cell_type": "markdown",
   "id": "37ce3456",
   "metadata": {},
   "source": [
    "## 4. Translator Model"
   ]
  },
  {
   "cell_type": "code",
   "execution_count": 13,
   "id": "fb4922b9",
   "metadata": {},
   "outputs": [],
   "source": [
    "class Translator(tf.keras.Model):\n",
    "  def __init__(self,vocab_size_en,vocab_size_pt,units):\n",
    "    super().__init__()\n",
    "    self.encoder = Encoder(vocab_size_en,units)\n",
    "    self.decoder = Decoder(vocab_size_pt,units)\n",
    "    self.units = units\n",
    "\n",
    "  def call(self,inputs):\n",
    "    context,target= inputs\n",
    "    enc_out, h,c = self.encoder(context)\n",
    "    logits, _ =self.decoder(enc_out,target,[h,c])\n",
    "    return logits"
   ]
  },
  {
   "cell_type": "markdown",
   "id": "fca40a1f",
   "metadata": {},
   "source": [
    "## 5. Traning Step"
   ]
  },
  {
   "cell_type": "code",
   "execution_count": 19,
   "id": "9f615680",
   "metadata": {},
   "outputs": [
    {
     "name": "stdout",
     "output_type": "stream",
     "text": [
      "Logit hape: (5, 9, 18)\n"
     ]
    }
   ],
   "source": [
    "translator = Translator(len(vocab_en),len(vocab_pt),units = 128)\n",
    "\n",
    "input_batch = english_vectorizer(english_sentence)\n",
    "target_batch = portuguese_vectorizer([\"<SOS>\" + s + \"<EOS>\" for s in portuguese_sentences])\n",
    "\n",
    "logits = translator((input_batch,target_batch[:,:-1]))\n",
    "print(\"Logit hape:\",logits.shape)"
   ]
  },
  {
   "cell_type": "markdown",
   "id": "a727b95f",
   "metadata": {},
   "source": [
    "## 6. Translation Function"
   ]
  },
  {
   "cell_type": "code",
   "execution_count": 36,
   "id": "e7670dab",
   "metadata": {},
   "outputs": [],
   "source": [
    "def translate(model, text, max_length=50, temperature=0.7):\n",
    "    text = tf.constant([text])\n",
    "    context, h, c = model.encoder(english_vectorizer(text))\n",
    "\n",
    "    sos_id = portuguese_vectorizer(['<SOS>']).numpy()[0][0]\n",
    "    eos_id = portuguese_vectorizer(['<EOS>']).numpy()[0][0]\n",
    "    next_token = tf.constant([[sos_id]], dtype=tf.int64)\n",
    "\n",
    "    state = [h, c]\n",
    "    tokens = []\n",
    "    \n",
    "    for _ in range(max_length):\n",
    "        logits, state = model.decoder(context, next_token, state)\n",
    "        logits = tf.squeeze(logits, axis=1)\n",
    "        probs = tf.nn.softmax(logits / temperature)\n",
    "        next_token = tf.random.categorical(tf.math.log(probs), num_samples=1)\n",
    "        \n",
    "        if next_token.numpy()[0, 0] == eos_id:\n",
    "            break\n",
    "\n",
    "        tokens.append(next_token)\n",
    "    \n",
    "    tokens = tf.concat(tokens, axis=-1)\n",
    "    words = [vocab_pt[i] for i in tokens.numpy()[0]]\n",
    "    return \" \".join(words)\n"
   ]
  },
  {
   "cell_type": "markdown",
   "id": "8fb23097",
   "metadata": {},
   "source": [
    "## 7. Try Translation"
   ]
  },
  {
   "cell_type": "code",
   "execution_count": 37,
   "id": "1c6cb9cd",
   "metadata": {},
   "outputs": [
    {
     "name": "stdout",
     "output_type": "stream",
     "text": [
      "Input: i like apples\n",
      "Translation: sosnós maçãseos joga  sosnós línguaseos lê\n"
     ]
    }
   ],
   "source": [
    "example = \"i like apples\"\n",
    "translation = translate(translator, example, temperature=0.7)\n",
    "print(f\"Input: {example}\")\n",
    "print(f\"Translation: {translation}\")\n"
   ]
  },
  {
   "cell_type": "markdown",
   "id": "f6b70794",
   "metadata": {},
   "source": [
    "## 8. Evaluation Functions (ROGUE and Overlap)"
   ]
  },
  {
   "cell_type": "code",
   "execution_count": 38,
   "id": "f27464a2",
   "metadata": {},
   "outputs": [],
   "source": [
    "from collections import Counter\n",
    "\n",
    "def rogue_similarity(candidate,reference):\n",
    "  candidate_counts = Counter(candidate)\n",
    "  reference_counts = Counter(reference)\n",
    "  overlap = sum(min(candidate_counts[t], reference_counts[t]) for t in candidate_counts)\n",
    "  precision = overlap / len(candidate) if candidate else 0\n",
    "  recall = overlap/len(reference) if reference else 0\n",
    "  return (2*precision*recall)/(precision + recall) if (precision + recall) else 0\n",
    "\n",
    "def average_overlap(samples,similarity_fn):\n",
    "  scores = {}\n",
    "  for i, candidate in enumerate(samples):\n",
    "    overlap = 0\n",
    "    for j, sample in enumerate(samples):\n",
    "      if i == j:\n",
    "        continue\n",
    "      overlap+=similarity_fn(candidate,sample)\n",
    "    scores[i] = round(overlap/(len(samples)-1),3)\n",
    "  return scores"
   ]
  },
  {
   "cell_type": "markdown",
   "id": "b5be61ef",
   "metadata": {},
   "source": [
    "## 9. Test Block"
   ]
  },
  {
   "cell_type": "code",
   "execution_count": 39,
   "id": "0d3b7970",
   "metadata": {},
   "outputs": [
    {
     "name": "stdout",
     "output_type": "stream",
     "text": [
      "============================================================\n",
      "Input Sentence: i like apples\n",
      "Predicted Translation: sosele línguaseos\n",
      "============================================================ \n",
      "\n",
      "============================================================\n",
      "Input Sentence: he is reading a book\n",
      "Predicted Translation: sosnós línguaseos livroseos sosvocê maçãseos livroseos sosnós sosela sosnós\n",
      "============================================================ \n",
      "\n",
      "============================================================\n",
      "Input Sentence: we are learning languages\n",
      "Predicted Translation: maçãseos  sosnós de sosnós  lê joga joga joga gosto futeboleos estudamos sosele sosvocê livroseos ama sosela sosela ama soseu joga soseu soseu sosele estudamos sosele sosvocê\n",
      "============================================================ \n",
      "\n",
      "============================================================\n",
      "Input Sentence: they play football every day\n",
      "Predicted Translation: gosto  joga lê futeboleos gosto ama sosela soseu maçãseos de lê soseu gosto soseu gosto futeboleos estudamos sosele sosnós lê estudamos futeboleos gosto maçãseos sosele de sosnós  bananaseos sosnós sosele sosele joga línguaseos lê ama sosnós sosvocê ama sosele  futeboleos livroseos de bananaseos livroseos futeboleos joga livroseos\n",
      "============================================================ \n",
      "\n",
      "============================================================\n",
      "Input Sentence: she loves music\n",
      "Predicted Translation: livroseos  sosele gosto lê ama maçãseos lê sosnós gosto \n",
      "============================================================ \n",
      "\n"
     ]
    }
   ],
   "source": [
    "test_sentences = [\n",
    "    \"i like apples\",\n",
    "    \"he is reading a book\",\n",
    "    \"we are learning languages\",\n",
    "    \"they play football every day\",\n",
    "    \"she loves music\"\n",
    "]\n",
    "\n",
    "temperature = 0.7\n",
    "\n",
    "for sentence in test_sentences:\n",
    "  translation = translate(translator,sentence,temperature=temperature)\n",
    "  print(\"=\" * 60)\n",
    "  print(f\"Input Sentence: {sentence}\")\n",
    "  print(f\"Predicted Translation: {translation}\")\n",
    "  print(\"=\" * 60, \"\\n\")\n"
   ]
  },
  {
   "cell_type": "markdown",
   "id": "ecda29c2",
   "metadata": {},
   "source": [
    "## 10. Randomized Temperature Testing"
   ]
  },
  {
   "cell_type": "code",
   "execution_count": 49,
   "id": "5a18ee5e",
   "metadata": {},
   "outputs": [
    {
     "name": "stdout",
     "output_type": "stream",
     "text": [
      "Temperature: 0.3\n",
      "Input: i like apples\n",
      "Translation: joga joga gosto lê sosele maçãseos estudamos sosnós sosnós sosele bananaseos sosnós sosele ama estudamos joga línguaseos joga gosto  línguaseos joga joga soseu lê lê ama ama sosela lê sosvocê gosto sosela maçãseos futeboleos sosnós bananaseos livroseos sosela soseu futeboleos sosele de ama sosvocê joga maçãseos lê lê gosto\n",
      "--------------------------------------------------\n",
      "Temperature: 0.7\n",
      "Input: i like apples\n",
      "Translation: sosvocê sosela joga sosela ama sosela\n",
      "--------------------------------------------------\n",
      "Temperature: 1.0\n",
      "Input: i like apples\n",
      "Translation: joga futeboleos  sosnós gosto livroseos bananaseos línguaseos lê sosvocê sosela estudamos soseu joga línguaseos ama maçãseos futeboleos maçãseos línguaseos de de línguaseos bananaseos joga ama sosnós sosele sosela  livroseos sosela línguaseos sosvocê bananaseos  sosela ama maçãseos lê soseu sosele bananaseos ama ama sosele lê ama futeboleos línguaseos\n",
      "--------------------------------------------------\n"
     ]
    }
   ],
   "source": [
    "example = \"i like apples\"\n",
    "\n",
    "for temp in [0.3, 0.7, 1.0]:\n",
    "    translation = translate(translator, example, temperature=temp)\n",
    "    print(f\"Temperature: {temp}\")\n",
    "    print(f\"Input: {example}\")\n",
    "    print(f\"Translation: {translation}\")\n",
    "    print(\"-\" * 50)\n"
   ]
  }
 ],
 "metadata": {
  "kernelspec": {
   "display_name": "Python 3",
   "language": "python",
   "name": "python3"
  },
  "language_info": {
   "codemirror_mode": {
    "name": "ipython",
    "version": 3
   },
   "file_extension": ".py",
   "mimetype": "text/x-python",
   "name": "python",
   "nbconvert_exporter": "python",
   "pygments_lexer": "ipython3",
   "version": "3.10.6"
  }
 },
 "nbformat": 4,
 "nbformat_minor": 5
}
