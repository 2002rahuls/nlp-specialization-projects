{
 "cells": [
  {
   "cell_type": "markdown",
   "id": "77ecb181",
   "metadata": {},
   "source": [
    "## 1. Imports and Setup"
   ]
  },
  {
   "cell_type": "code",
   "execution_count": 4,
   "id": "546facf2",
   "metadata": {},
   "outputs": [],
   "source": [
    "import tensorflow as tf \n",
    "import numpy as np \n",
    "from collections import Counter\n",
    "import matplotlib.pyplot as plt"
   ]
  },
  {
   "cell_type": "markdown",
   "id": "5397e38e",
   "metadata": {},
   "source": [
    "##  2. Data Preparation"
   ]
  },
  {
   "cell_type": "code",
   "execution_count": 5,
   "id": "d296f2d7",
   "metadata": {},
   "outputs": [],
   "source": [
    "english_sentence  =[\n",
    "  \"i like apples\",\n",
    "  \"you love bananas\",\n",
    "  \"he plays football\",\n",
    "  \"she reads books\",\n",
    "  \"we study languages\",\n",
    "]\n",
    "portuguese_sentences = [\n",
    "    \"eu gosto de maçãs\",\n",
    "    \"você ama bananas\",\n",
    "    \"ele joga futebol\",\n",
    "    \"ela lê livros\",\n",
    "    \"nós estudamos línguas\",\n",
    "]"
   ]
  },
  {
   "cell_type": "markdown",
   "id": "fc0b5a14",
   "metadata": {},
   "source": [
    "### Tokenization and Vectorization"
   ]
  },
  {
   "cell_type": "code",
   "execution_count": 6,
   "id": "2fe41533",
   "metadata": {},
   "outputs": [],
   "source": [
    "english_vectorizer = tf.keras.layers.TextVectorization(output_mode=\"int\",output_sequence_length=10)\n",
    "portuguese_vectorizer = tf.keras.layers.TextVectorization(output_mode=\"int\",output_sequence_length=10)\n",
    "\n",
    "english_vectorizer.adapt(english_sentence)\n",
    "portuguese_vectorizer.adapt([\"<SOS>\" + s + \"<EOS>\" for s in portuguese_sentences])\n",
    "\n",
    "vocab_en = english_vectorizer.get_vocabulary()\n",
    "vocab_pt = portuguese_vectorizer.get_vocabulary()"
   ]
  },
  {
   "cell_type": "markdown",
   "id": "85762e05",
   "metadata": {},
   "source": [
    "## 3.  Encoder-Decoder Architecture"
   ]
  },
  {
   "cell_type": "code",
   "execution_count": null,
   "id": "42b63986",
   "metadata": {},
   "outputs": [],
   "source": [
    "class Encoder(tf.keras.layers.Layer):\n",
    "  def __init__(self, vocab_size,units):\n",
    "    super().__init__()\n",
    "    self.embedding = tf.keras.layers.Embedding(vocab_size,units)\n",
    "    self.lstm = tf.keras.layers.LSTM(units,return_sequences=True,return_state=True)\n",
    "\n",
    "  def call(self,x):\n",
    "    x=self.embedding(x)\n",
    "    output,h,c = self.lstm(x)\n",
    "    return output,h,c\n",
    "  \n",
    "class Decoder(tf.keras.layers.Layer):\n",
    "  def __init__(self,vocab_size,units):\n",
    "    super().__init()\n",
    "    self.embedding = tf.keras.layers.Embedding(vocab_size,units)\n",
    "    self.lstm = tf.keras.layers.LSTM(units,return_sequences=True,return_state=True)\n",
    "\n",
    "  def call(self,context,token,state):\n",
    "    token = self.embedding(token)\n",
    "    output, h, c = self.lstm(token,inital_state=state)\n",
    "    logits = self.output_layer(output)\n",
    "    return logits, [h,c]\n"
   ]
  },
  {
   "cell_type": "markdown",
   "id": "37ce3456",
   "metadata": {},
   "source": [
    "## 4. Translator Model"
   ]
  },
  {
   "cell_type": "code",
   "execution_count": null,
   "id": "fb4922b9",
   "metadata": {},
   "outputs": [],
   "source": []
  }
 ],
 "metadata": {
  "kernelspec": {
   "display_name": "Python 3",
   "language": "python",
   "name": "python3"
  },
  "language_info": {
   "codemirror_mode": {
    "name": "ipython",
    "version": 3
   },
   "file_extension": ".py",
   "mimetype": "text/x-python",
   "name": "python",
   "nbconvert_exporter": "python",
   "pygments_lexer": "ipython3",
   "version": "3.10.6"
  }
 },
 "nbformat": 4,
 "nbformat_minor": 5
}
